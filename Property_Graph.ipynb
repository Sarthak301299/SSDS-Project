{
  "nbformat": 4,
  "nbformat_minor": 0,
  "metadata": {
    "colab": {
      "name": "Property Graph",
      "provenance": [],
      "collapsed_sections": []
    },
    "kernelspec": {
      "name": "python3",
      "display_name": "Python 3"
    }
  },
  "cells": [
    {
      "cell_type": "code",
      "metadata": {
        "id": "lh5NCoc8fsSO",
        "colab": {
          "base_uri": "https://localhost:8080/"
        },
        "outputId": "1193316e-bdbe-42db-88ee-8e5dbfcca44b"
      },
      "source": [
        "from google.colab import drive\n",
        "drive.mount('/content/drive')\n",
        "!apt-get install openjdk-8-jdk-headless -qq > /dev/null\n",
        "#!wget -q https://mirrors.estointernet.in/apache/spark/spark-3.0.3/spark-3.0.3-bin-hadoop2.7.tgz -P /content/drive/MyDrive # link wrong in blog\n",
        "!tar xf /content/drive/Shareddrives/ds256-2022/spark-3.0.3-bin-hadoop2.7.tgz\n",
        "!pip install -q findspark\n",
        "import os\n",
        "os.environ[\"JAVA_HOME\"] = \"/usr/lib/jvm/java-8-openjdk-amd64\"\n",
        "os.environ[\"SPARK_HOME\"] = \"/content/spark-3.0.3-bin-hadoop2.7\""
      ],
      "execution_count": null,
      "outputs": [
        {
          "output_type": "stream",
          "name": "stdout",
          "text": [
            "Mounted at /content/drive\n"
          ]
        }
      ]
    },
    {
      "cell_type": "code",
      "source": [
        "!pip install graphframes"
      ],
      "metadata": {
        "colab": {
          "base_uri": "https://localhost:8080/"
        },
        "id": "oRqgiidRGo9S",
        "outputId": "4f94783c-c0e9-4d59-e4c9-6677106fdc05"
      },
      "execution_count": null,
      "outputs": [
        {
          "output_type": "stream",
          "name": "stdout",
          "text": [
            "Collecting graphframes\n",
            "  Downloading graphframes-0.6-py2.py3-none-any.whl (18 kB)\n",
            "Collecting nose\n",
            "  Downloading nose-1.3.7-py3-none-any.whl (154 kB)\n",
            "\u001b[K     |████████████████████████████████| 154 kB 5.0 MB/s \n",
            "\u001b[?25hRequirement already satisfied: numpy in /usr/local/lib/python3.7/dist-packages (from graphframes) (1.21.6)\n",
            "Installing collected packages: nose, graphframes\n",
            "Successfully installed graphframes-0.6 nose-1.3.7\n"
          ]
        }
      ]
    },
    {
      "cell_type": "code",
      "metadata": {
        "id": "v1b8k_OVf2QF",
        "colab": {
          "base_uri": "https://localhost:8080/",
          "height": 219
        },
        "outputId": "6c4e5184-f5ce-4af6-9902-0fd8d2bfe431"
      },
      "source": [
        "os.environ[\"PYSPARK_SUBMIT_ARGS\"] = \"--packages graphframes:graphframes:0.8.1-spark3.0-s_2.12 pyspark-shell\"\n",
        "import findspark\n",
        "findspark.init()\n",
        "findspark.find()\n",
        "from pyspark.sql import SparkSession\n",
        "spark = SparkSession.builder\\\n",
        "         .master(\"local\")\\\n",
        "         .appName(\"Colab\")\\\n",
        "         .config('spark.ui.port', '4050')\\\n",
        "         .config(\"spark.jars.packages\", \"graphframes:graphframes:0.8.0-spark2.4-s_2.11\")\\\n",
        "         .getOrCreate()\n",
        "spark"
      ],
      "execution_count": null,
      "outputs": [
        {
          "output_type": "execute_result",
          "data": {
            "text/plain": [
              "<pyspark.sql.session.SparkSession at 0x7f0c8a2c0bd0>"
            ],
            "text/html": [
              "\n",
              "            <div>\n",
              "                <p><b>SparkSession - in-memory</b></p>\n",
              "                \n",
              "        <div>\n",
              "            <p><b>SparkContext</b></p>\n",
              "\n",
              "            <p><a href=\"http://89b6f638076b:4050\">Spark UI</a></p>\n",
              "\n",
              "            <dl>\n",
              "              <dt>Version</dt>\n",
              "                <dd><code>v3.0.3</code></dd>\n",
              "              <dt>Master</dt>\n",
              "                <dd><code>local</code></dd>\n",
              "              <dt>AppName</dt>\n",
              "                <dd><code>Colab</code></dd>\n",
              "            </dl>\n",
              "        </div>\n",
              "        \n",
              "            </div>\n",
              "        "
            ]
          },
          "metadata": {},
          "execution_count": 8
        }
      ]
    },
    {
      "cell_type": "code",
      "source": [
        "!pip install python-igraph"
      ],
      "metadata": {
        "colab": {
          "base_uri": "https://localhost:8080/"
        },
        "id": "U9Zswa40JNd4",
        "outputId": "ba885f1b-4be4-4ecb-f775-94864b0860fd"
      },
      "execution_count": null,
      "outputs": [
        {
          "output_type": "stream",
          "name": "stdout",
          "text": [
            "Requirement already satisfied: python-igraph in /usr/local/lib/python3.7/dist-packages (0.9.10)\n",
            "Requirement already satisfied: igraph==0.9.10 in /usr/local/lib/python3.7/dist-packages (from python-igraph) (0.9.10)\n",
            "Requirement already satisfied: texttable>=1.6.2 in /usr/local/lib/python3.7/dist-packages (from igraph==0.9.10->python-igraph) (1.6.4)\n"
          ]
        }
      ]
    },
    {
      "cell_type": "code",
      "source": [
        "!pip install cairocffi"
      ],
      "metadata": {
        "colab": {
          "base_uri": "https://localhost:8080/"
        },
        "id": "fWma5Gf8JhUx",
        "outputId": "028ba562-6164-4b18-b547-7c7c2df4a9a2"
      },
      "execution_count": null,
      "outputs": [
        {
          "output_type": "stream",
          "name": "stdout",
          "text": [
            "Requirement already satisfied: cairocffi in /usr/local/lib/python3.7/dist-packages (1.3.0)\n",
            "Requirement already satisfied: cffi>=1.1.0 in /usr/local/lib/python3.7/dist-packages (from cairocffi) (1.15.0)\n",
            "Requirement already satisfied: pycparser in /usr/local/lib/python3.7/dist-packages (from cffi>=1.1.0->cairocffi) (2.21)\n"
          ]
        }
      ]
    },
    {
      "cell_type": "code",
      "source": [
        "#Create Data Frames\n",
        "from pyspark import SparkContext, SparkConf\n",
        "from pyspark.sql import SQLContext\n",
        "from pyspark.sql.functions import col, concat\n",
        "from pyspark.sql.functions import lit\n",
        "from pyspark.sql.functions import expr\n",
        "import sys\n",
        "import json\n",
        "import networkx as nx\n",
        "import matplotlib.pyplot as plt\n",
        "\n",
        "\n",
        "sc = SparkContext.getOrCreate()\n",
        "sqlContext = SQLContext(sc)\n",
        "from graphframes import *"
      ],
      "metadata": {
        "id": "dP8xl4Rlo093"
      },
      "execution_count": null,
      "outputs": []
    },
    {
      "cell_type": "markdown",
      "source": [
        "**CREATE DATAFRAME**"
      ],
      "metadata": {
        "id": "Uo9yQotSEuK0"
      }
    },
    {
      "cell_type": "code",
      "metadata": {
        "colab": {
          "base_uri": "https://localhost:8080/"
        },
        "outputId": "3ce4a038-0d84-450f-dc57-55302878c480",
        "id": "gz9uFRTJE0O5"
      },
      "source": [
        "import csv\n",
        "from os import listdir, getcwd\n",
        "from pyspark.sql import Row\n",
        "\n",
        "classes = [['dynamic', ['Comment', 'Forum', 'Person', 'Post']], ['static', ['Organisation', 'Place', 'Tag', 'TagClass']]]\n",
        "\n",
        "dataSetPath = \"/content/drive/MyDrive/property_graph_dataset/singular-projected-fk/\"\n",
        "\n",
        "arrayOfVertices = []\n",
        "for i in classes:\n",
        "  folder = i[0]\n",
        "  for Class in i[1]:\n",
        "    filenames = listdir(dataSetPath + folder + '/' + Class)\n",
        "    fileName =  [ filename for filename in filenames if filename.endswith( '.csv' ) ][0]\n",
        "    fileObj = open(dataSetPath + folder + '/' + Class + '/' + fileName)\n",
        "    for row in csv.DictReader(fileObj, skipinitialspace=True, delimiter=\"|\"):\n",
        "      diction = {k: v for k, v in row.items()}\n",
        "      diction['class'] = Class\n",
        "      arrayOfVertices.append(diction)\n",
        "\n",
        "vertexRDD = sc.parallelize(arrayOfVertices)\n",
        "vertexDF = sqlContext.read.json(vertexRDD)\n",
        "vertexDF = vertexDF.withColumn(\"cid\",col(\"id\")).withColumn(\"id\",concat(col(\"id\"),lit(','),col(\"class\")))\n",
        "vertexDF.show()\n",
        "\n",
        "arrayOfEdges = []\n",
        "for folder in ['static', 'dynamic']:\n",
        "  relation_folders = listdir(dataSetPath + folder)\n",
        "  for relation_folder in relation_folders:\n",
        "    split_folder_list = relation_folder.split(\"_\")\n",
        "    if len(split_folder_list) != 3:\n",
        "      continue\n",
        "    else:\n",
        "      sourceClass, relation, destClass = split_folder_list\n",
        "\n",
        "    filenames = listdir(dataSetPath + folder + '/' + relation_folder)\n",
        "    fileName =  [ filename for filename in filenames if filename.endswith( '.csv' ) ][0]\n",
        "    fileObj = open(dataSetPath + folder + '/' + relation_folder + '/' + fileName)\n",
        "    for row in csv.DictReader(fileObj, skipinitialspace=True, delimiter=\"|\"):\n",
        "      diction = {k: v for k, v in row.items()}\n",
        "      if sourceClass == destClass:\n",
        "        diction[\"sourceID\"] = diction.pop(sourceClass + '1Id')\n",
        "        diction[\"destID\"] = diction.pop(destClass + '2Id')\n",
        "      else:\n",
        "        diction[\"sourceID\"] = diction.pop(sourceClass + 'Id')\n",
        "        diction[\"destID\"] = diction.pop(destClass + 'Id')\n",
        "      diction['sourceClass'] = sourceClass\n",
        "      diction['destClass'] = destClass\n",
        "      diction['edgeRelation'] = relation\n",
        "\n",
        "      arrayOfEdges.append(diction)\n",
        "\n",
        "edgeRDD = sc.parallelize(arrayOfEdges)\n",
        "edgeDF = sqlContext.read.json(edgeRDD)\n",
        "edgeDF = edgeDF.withColumn(\"src\",concat(col(\"sourceID\"),lit(','),col(\"sourceClass\"))).withColumn(\"dst\",concat(col(\"destID\"),lit(','),col(\"destClass\"))).drop(\"sourceID\").drop(\"destID\")\n",
        "edgeDF.show(20,False)"
      ],
      "execution_count": null,
      "outputs": [
        {
          "output_type": "stream",
          "name": "stdout",
          "text": [
            "+---------------+--------+-----------------+-------+--------------------+--------------------+---------+------+--------------------+---------+--------+--------+------+--------------+----+-----+----+----+-------------+\n",
            "|_corrupt_record|birthday|      browserUsed|  class|             content|        creationDate|firstName|gender|                  id|imageFile|language|lastName|length|    locationIP|name|title|type| url|          cid|\n",
            "+---------------+--------+-----------------+-------+--------------------+--------------------+---------+------+--------------------+---------+--------+--------+------+--------------+----+-----+----+----+-------------+\n",
            "|           null|    null|          Firefox|Comment|                 yes|2012-07-08T16:48:...|     null|  null|962072674305,Comment|     null|    null|    null|     3|91.191.192.127|null| null|null|null| 962072674305|\n",
            "|           null|    null|          Firefox|Comment|              thanks|2012-07-08T13:32:...|     null|  null|962072674306,Comment|     null|    null|    null|     6|91.191.192.127|null| null|null|null| 962072674306|\n",
            "|           null|    null|          Firefox|Comment|                 LOL|2011-11-08T02:59:...|     null|  null|755914244468,Comment|     null|    null|    null|     3| 196.29.42.107|null| null|null|null| 755914244468|\n",
            "|           null|    null|          Firefox|Comment|               I see|2011-11-08T05:13:...|     null|  null|755914244469,Comment|     null|    null|    null|     5| 196.29.42.107|null| null|null|null| 755914244469|\n",
            "|           null|    null|          Firefox|Comment|                fine|2011-11-07T22:05:...|     null|  null|755914244470,Comment|     null|    null|    null|     4| 196.29.42.107|null| null|null|null| 755914244470|\n",
            "|           null|    null|Internet Explorer|Comment|               right|2012-09-23T03:27:...|     null|  null|1099511628151,Com...|     null|    null|    null|     5|31.170.121.115|null| null|null|null|1099511628151|\n",
            "|           null|    null|          Firefox|Comment|About Erwin Romme...|2012-06-29T23:37:...|     null|  null|962072674680,Comment|     null|    null|    null|    77|  31.209.179.5|null| null|null|null| 962072674680|\n",
            "|           null|    null|Internet Explorer|Comment|                good|2012-09-22T22:17:...|     null|  null|1099511628153,Com...|     null|    null|    null|     4|31.170.121.115|null| null|null|null|1099511628153|\n",
            "|           null|    null|          Firefox|Comment|                  no|2012-06-30T01:03:...|     null|  null|962072674682,Comment|     null|    null|    null|     2| 31.24.100.159|null| null|null|null| 962072674682|\n",
            "|           null|    null|Internet Explorer|Comment|About Richard Str...|2012-09-22T18:57:...|     null|  null|1099511628156,Com...|     null|    null|    null|    82|31.170.121.115|null| null|null|null|1099511628156|\n",
            "|           null|    null|          Firefox|Comment|                cool|2012-06-14T06:55:...|     null|  null|962072674685,Comment|     null|    null|    null|     4|62.205.208.127|null| null|null|null| 962072674685|\n",
            "|           null|    null|          Firefox|Comment|About Isabella I ...|2012-09-22T23:57:...|     null|  null|1099511628158,Com...|     null|    null|    null|    80| 31.24.100.159|null| null|null|null|1099511628158|\n",
            "|           null|    null|          Firefox|Comment|                good|2012-09-23T00:02:...|     null|  null|1099511628159,Com...|     null|    null|    null|     4|  31.209.179.5|null| null|null|null|1099511628159|\n",
            "|           null|    null|Internet Explorer|Comment|                 thx|2012-09-22T21:48:...|     null|  null|1099511628160,Com...|     null|    null|    null|     3|31.170.121.115|null| null|null|null|1099511628160|\n",
            "|           null|    null|          Firefox|Comment|About Franz Liszt...|2012-09-23T01:54:...|     null|  null|1099511628161,Com...|     null|    null|    null|    87|  31.209.179.5|null| null|null|null|1099511628161|\n",
            "|           null|    null|          Firefox|Comment|                good|2011-11-08T16:05:...|     null|  null|755914244482,Comment|     null|    null|    null|     4| 196.29.42.107|null| null|null|null| 755914244482|\n",
            "|           null|    null|           Chrome|Comment|About Up for the ...|2012-08-18T13:19:...|     null|  null|1030792151436,Com...|     null|    null|    null|   150|192.190.31.253|null| null|null|null|1030792151436|\n",
            "|           null|    null|          Firefox|Comment|About Congo Free ...|2012-08-19T11:20:...|     null|  null|1030792151437,Com...|     null|    null|    null|    80|    186.64.7.5|null| null|null|null|1030792151437|\n",
            "|           null|    null|Internet Explorer|Comment|                cool|2012-11-12T06:27:...|     null|  null|1168231104910,Com...|     null|    null|    null|     4|41.203.147.168|null| null|null|null|1168231104910|\n",
            "|           null|    null|          Firefox|Comment|              roflol|2012-08-18T17:55:...|     null|  null|1030792151439,Com...|     null|    null|    null|     6|    186.64.7.5|null| null|null|null|1030792151439|\n",
            "+---------------+--------+-----------------+-------+--------------------+--------------------+---------+------+--------------------+---------+--------+--------+------+--------------+----+-----+----+----+-------------+\n",
            "only showing top 20 rows\n",
            "\n",
            "+---------+------------+---------+------------+-----------+--------+--------+----------+\n",
            "|classYear|creationDate|destClass|edgeRelation|sourceClass|workFrom|src     |dst       |\n",
            "+---------+------------+---------+------------+-----------+--------+--------+----------+\n",
            "|null     |null        |Place    |isPartOf    |Place      |null    |0,Place |1454,Place|\n",
            "|null     |null        |Place    |isPartOf    |Place      |null    |1,Place |1454,Place|\n",
            "|null     |null        |Place    |isPartOf    |Place      |null    |2,Place |1455,Place|\n",
            "|null     |null        |Place    |isPartOf    |Place      |null    |3,Place |1456,Place|\n",
            "|null     |null        |Place    |isPartOf    |Place      |null    |4,Place |1454,Place|\n",
            "|null     |null        |Place    |isPartOf    |Place      |null    |5,Place |1457,Place|\n",
            "|null     |null        |Place    |isPartOf    |Place      |null    |6,Place |1456,Place|\n",
            "|null     |null        |Place    |isPartOf    |Place      |null    |7,Place |1456,Place|\n",
            "|null     |null        |Place    |isPartOf    |Place      |null    |8,Place |1455,Place|\n",
            "|null     |null        |Place    |isPartOf    |Place      |null    |9,Place |1456,Place|\n",
            "|null     |null        |Place    |isPartOf    |Place      |null    |10,Place|1456,Place|\n",
            "|null     |null        |Place    |isPartOf    |Place      |null    |11,Place|1458,Place|\n",
            "|null     |null        |Place    |isPartOf    |Place      |null    |12,Place|1458,Place|\n",
            "|null     |null        |Place    |isPartOf    |Place      |null    |13,Place|1456,Place|\n",
            "|null     |null        |Place    |isPartOf    |Place      |null    |14,Place|1456,Place|\n",
            "|null     |null        |Place    |isPartOf    |Place      |null    |15,Place|1458,Place|\n",
            "|null     |null        |Place    |isPartOf    |Place      |null    |16,Place|1454,Place|\n",
            "|null     |null        |Place    |isPartOf    |Place      |null    |17,Place|1454,Place|\n",
            "|null     |null        |Place    |isPartOf    |Place      |null    |18,Place|1454,Place|\n",
            "|null     |null        |Place    |isPartOf    |Place      |null    |19,Place|1454,Place|\n",
            "+---------+------------+---------+------------+-----------+--------+--------+----------+\n",
            "only showing top 20 rows\n",
            "\n"
          ]
        }
      ]
    },
    {
      "cell_type": "code",
      "source": [
        "graph = GraphFrame(vertexDF, edgeDF)"
      ],
      "metadata": {
        "id": "Jn8vALtElj9Q"
      },
      "execution_count": null,
      "outputs": []
    },
    {
      "cell_type": "code",
      "source": [
        "def genpathquery(len):\n",
        "  basev = \"x\"\n",
        "  basee = \"e\"\n",
        "  query = \"\"\n",
        "  for i in range(len-1):\n",
        "    query += \"(\"+basev+str(i)+\")-[\"+basee+str(i)+\"]->(\"+basev+str(i+1)+\");\"\n",
        "  query += \"(\"+basev+str(len-1)+\")-[\"+basee+str(len-1)+\"]->(\"+basev+str(len)+\")\"\n",
        "  return query"
      ],
      "metadata": {
        "id": "cDSdc39bU_Lm"
      },
      "execution_count": 51,
      "outputs": []
    },
    {
      "cell_type": "markdown",
      "source": [
        "# **MAKE CLASS FOR INPUT**"
      ],
      "metadata": {
        "id": "Sl2p_snOMZnK"
      }
    },
    {
      "cell_type": "code",
      "source": [
        "class component:\n",
        "  def __init__(self, relation=None, next=None, type=\"vertex\", conditions=[], v_name=\"\", e_name=\"\"):\n",
        "    self.next = next\n",
        "    self.relation = relation #if relation = None edges with all relations will be included\n",
        "    self.type = type #if it is a single vertex or series of vertex\n",
        "    self.conditions = conditions #conditions on vertices for attributes\n",
        "    self.v_name = v_name\n",
        "    self.e_name = e_name\n",
        "\n",
        "def makeComponentFromArr(arr):\n",
        "  path_query = ''\n",
        "  vertex_name, conditions, edge_name, relation = arr[0]\n",
        "  prev_component = component(relation=relation, next=None, conditions=conditions, v_name=vertex_name, e_name=edge_name)\n",
        "  head_component = prev_component\n",
        "\n",
        "  for element in arr[1:]:\n",
        "    vertex_name, conditions, edge_name, relation = element\n",
        "    curr_component = component(relation=relation, next=None, conditions=conditions, v_name=vertex_name, e_name=edge_name)\n",
        "    prev_component.next = curr_component\n",
        "    prev_component = curr_component\n",
        "  #print(vars(head_component), vars(head_component.next), vars(head_component.next.next))\n",
        "  return head_component\n",
        "\n",
        "first_component = makeComponentFromArr([[\"v1\", [[\"v1\",\"class\",\"Person\"]], \"e1\", [\"e1\",\"likes\"]], \n",
        "                                        [\"v2\", [[\"v2\",\"class\", \"Comment\" ]], \"e2\", [\"e2\",\"hasCreator\"]], \n",
        "                                        [\"v3\", [[\"v3\",\"class\",\"Person\"],[\"v3\",\"cid\",\"2199023255557\"]], \"\", \"r3\"]])\n",
        "\n",
        "def merge_components(*components, edge_names=[], relations=[]):\n",
        "  head_component = components[0]\n",
        "  n = len(components)\n",
        "  if len(edge_names) == 0 and len(relations) == 0:\n",
        "    edge_names = [\"\"]*(n-1)\n",
        "    relations = [\"\"]*(n-1)\n",
        "  if len(edge_names) != n-1 or len(relations) != n-1:\n",
        "    raise ValueError(\"Length of edge names and relations should be number of components-1\")\n",
        "  else:\n",
        "    for i in range(n-1):\n",
        "      comp1 = components[i]\n",
        "      comp2 = components[i+1]\n",
        "\n",
        "      while comp1.next != None:\n",
        "        comp1 = comp1.next\n",
        "\n",
        "      comp1.next = comp2\n",
        "      comp1.e_name = edge_names[i]\n",
        "      comp1.relation = relations[i]\n",
        "\n",
        "    return head_component\n",
        "\n",
        "\n",
        "one_component = makeComponentFromArr([[\"v1\", [], \"e1\", \"Likes\"]])\n",
        "two_component = makeComponentFromArr([[\"v1\", [], \"e1\", \"Likes\"]])\n",
        "new_component = merge_components(one_component, two_component, edge_names=[\"E\"], relations=[\"R\"])\n",
        "#print(vars(new_component), vars(new_component.next))\n",
        "\n",
        "def get_query_string_without_conditions(component):\n",
        "  query = \"\"\n",
        "  while component.next != None:\n",
        "    query += \"(\"+ component.v_name + \")-[\" + component.e_name + \"]->\"\n",
        "    component = component.next\n",
        "    query += \"(\"+ component.v_name + \");\"\n",
        "  query = query[:-1]\n",
        "  return query\n",
        "\n",
        "get_query_string_without_conditions(first_component)\n",
        "\n",
        "def get_query_string_with_conditions(component):\n",
        "  query = \"\"\n",
        "  vertex_conditions = [] # n vertices\n",
        "  edge_relations = [] # n-1 edges\n",
        "\n",
        "  \n",
        "  \n",
        "  while component.next != None:\n",
        "    vertex_conditions.append(component.conditions)\n",
        "    edge_relations.append(component.relation)\n",
        "    query += \"(\"+ component.v_name + \")-[\" + component.e_name + \"]->\"\n",
        "    component = component.next\n",
        "    query += \"(\"+ component.v_name + \");\"\n",
        "  query = query[:-1]\n",
        "  vertex_conditions.append(component.conditions)\n",
        "  \n",
        "  return query, vertex_conditions, edge_relations\n",
        "\n",
        "query = get_query_string_with_conditions(first_component)\n",
        "motif = query[0]\n",
        "vcond = query[1]\n",
        "econd = query[2]"
      ],
      "metadata": {
        "id": "idjHjz_hMZsh"
      },
      "execution_count": 52,
      "outputs": []
    },
    {
      "cell_type": "code",
      "source": [
        "#Query 3\n",
        "from pyspark.sql.functions import *\n",
        "input = \"2199023255557\"\n",
        "inputclass = \"Person\"\n",
        "inp = input + \",\" + inputclass\n",
        "path = graph.find(motif)\n",
        "for i in econd:\n",
        "  cond = i[0]+\".\"+\"edgeRelation\"\n",
        "  path = path.filter(col(cond) == i[1])\n",
        "for i in vcond:\n",
        "  for j in i:\n",
        "    cond = j[0]+\".\"+j[1]\n",
        "    print(cond,j[2])\n",
        "    path = path.filter(col(cond) == j[2])\n",
        "output = path.withColumn(\"minutesLatency\",(to_timestamp(col(\"e2.creationDate\")).cast(\"long\") - to_timestamp(col(\"v2.creationDate\")).cast(\"long\"))/60).select(col(\"v1.cid\").alias(\"friend.id\"),col(\"v1.firstName\").alias(\"friend.firstName\"),col(\"v1.lastName\").alias(\"friend.lastName\"),col(\"v1.creationDate\").alias(\"likes.creationDate\"),col(\"v2.cid\").alias(\"message.id\"),col(\"v2.content\").alias(\"message.content\"),col(\"v2.imageFile\").alias(\"message.imageFile\"),col(\"minutesLatency\"))\n",
        "output.show(20,False)"
      ],
      "metadata": {
        "colab": {
          "base_uri": "https://localhost:8080/"
        },
        "id": "s9xmuqJKQBzE",
        "outputId": "ae0df15d-c3d0-4cb8-d967-438e828f4ab3"
      },
      "execution_count": 53,
      "outputs": [
        {
          "output_type": "stream",
          "name": "stdout",
          "text": [
            "v1.class Person\n",
            "v2.class Comment\n",
            "v3.class Person\n",
            "v3.cid 2199023255557\n",
            "+-------------+----------------+---------------+-----------------------------+------------+----------------------------------------------------------------------------------+-----------------+--------------+\n",
            "|friend.id    |friend.firstName|friend.lastName|likes.creationDate           |message.id  |message.content                                                                   |message.imageFile|minutesLatency|\n",
            "+-------------+----------------+---------------+-----------------------------+------------+----------------------------------------------------------------------------------+-----------------+--------------+\n",
            "|8796093022244|John            |Reddy          |2010-09-28T17:46:50.451+00:00|824633723066|About Marlene Dietrich, , she acted on thAbout A Day in the Life,  has been covere|null             |0.0           |\n",
            "+-------------+----------------+---------------+-----------------------------+------------+----------------------------------------------------------------------------------+-----------------+--------------+\n",
            "\n"
          ]
        }
      ]
    },
    {
      "cell_type": "code",
      "source": [
        "#Query 1\n",
        "input = [\"2199023255557\",\"Tissa\"]\n",
        "inputclass = \"Person\"\n",
        "inp = input[0] + \",\" + inputclass\n",
        "pathlenlb = 1\n",
        "pathlenub = 3\n",
        "qout = []\n",
        "print(genpathquery(3))\n",
        "path = graph.find(genpathquery(3))\n",
        "path.show()\n",
        "for j in range(pathlenlb-1,3):\n",
        "  cname = \"e\"+str(j)+\".edgeRelation\"\n",
        "  path = path.filter(col(cname) == \"knows\")\n",
        "path = path.filter(col(\"x0.id\") == inp)\n",
        "selected = [s for s in path.columns if 'x' in s]\n",
        "colstackstr = \"\"\n",
        "for i in range(pathlenlb,pathlenub):\n",
        "  colstackstr += \"'\"+str(i)+\"',x\"+str(i)+\",\"\n",
        "colstackstr += \"'\"+str(pathlenub)+\"',x\"+str(pathlenub)\n",
        "output = path.select(selected).select(expr(\"stack(\"+str(pathlenub)+\",\"+colstackstr+\") as (distanceFromPerson,otherPerson)\")).distinct()\n",
        "output.select(output.otherPerson.cid,output.otherPerson.lastName,output.distanceFromPerson,output.otherPerson.birthday,output.otherPerson.creationDate,output.otherPerson.gender,output.otherPerson.browserUsed,output.otherPerson.locationIP,output.otherPerson.locationIP).show(20,False)"
      ],
      "metadata": {
        "colab": {
          "base_uri": "https://localhost:8080/"
        },
        "id": "btGlpiTul0VW",
        "outputId": "30b6651a-3176-4875-c02f-fcee6299b2f0"
      },
      "execution_count": null,
      "outputs": [
        {
          "output_type": "stream",
          "name": "stdout",
          "text": [
            "(x0)-[e0]->(x1);(x1)-[e1]->(x2);(x2)-[e2]->(x3)\n",
            "+--------------------+--------------------+--------------------+--------------------+--------------------+--------------------+--------------------+\n",
            "|                  x0|                  e0|                  x1|                  e1|                  x2|                  e2|                  x3|\n",
            "+--------------------+--------------------+--------------------+--------------------+--------------------+--------------------+--------------------+\n",
            "|[,, Firefox, Comm...|[, 2012-02-17T10:...|[,, Firefox, Comm...|[, 2012-02-16T20:...|[, 1989-08-05, Fi...|[, 2012-09-26T00:...|[,, Firefox, Post...|\n",
            "|[,, Chrome, Comme...|[, 2012-02-17T15:...|[,, Firefox, Comm...|[, 2012-02-16T20:...|[, 1989-08-05, Fi...|[, 2012-09-26T00:...|[,, Firefox, Post...|\n",
            "|[,,, Forum,, 2010...|[, 2011-01-04T22:...|[,, Firefox, Post...|[, 2011-01-04T22:...|[, 1989-08-05, Fi...|[, 2012-09-26T00:...|[,, Firefox, Post...|\n",
            "|[,, Firefox, Comm...|[, 2011-07-22T04:...|[,, Firefox, Post...|[, 2011-01-04T22:...|[, 1989-08-05, Fi...|[, 2012-09-26T00:...|[,, Firefox, Post...|\n",
            "|[,, Firefox, Comm...|[, 2011-07-22T13:...|[,, Firefox, Post...|[, 2011-01-04T22:...|[, 1989-08-05, Fi...|[, 2012-09-26T00:...|[,, Firefox, Post...|\n",
            "|[,, Chrome, Comme...|[, 2012-02-16T19:...|[,, Firefox, Post...|[, 2011-01-04T22:...|[, 1989-08-05, Fi...|[, 2012-09-26T00:...|[,, Firefox, Post...|\n",
            "|[,, Chrome, Comme...|[, 2012-02-16T22:...|[,, Firefox, Post...|[, 2011-01-04T22:...|[, 1989-08-05, Fi...|[, 2012-09-26T00:...|[,, Firefox, Post...|\n",
            "|[,, Safari, Comme...|[, 2012-08-10T05:...|[,, Firefox, Comm...|[, 2012-02-17T10:...|[, 1989-08-05, Fi...|[, 2012-09-26T00:...|[,, Firefox, Post...|\n",
            "|[,, Chrome, Comme...|[, 2012-02-17T10:...|[,, Firefox, Comm...|[, 2012-02-17T10:...|[, 1989-08-05, Fi...|[, 2012-09-26T00:...|[,, Firefox, Post...|\n",
            "|[,, Firefox, Comm...|[, 2012-10-14T22:...|[,, Firefox, Comm...|[, 2012-10-14T22:...|[, 1989-08-05, Fi...|[, 2012-09-26T00:...|[,, Firefox, Post...|\n",
            "|[,, Firefox, Comm...|[, 2012-10-15T04:...|[,, Firefox, Comm...|[, 2012-10-14T22:...|[, 1989-08-05, Fi...|[, 2012-09-26T00:...|[,, Firefox, Post...|\n",
            "|[,, Firefox, Comm...|[, 2012-09-25T05:...|[,, Firefox, Comm...|[, 2012-09-25T05:...|[, 1989-08-05, Fi...|[, 2012-09-26T00:...|[,, Firefox, Post...|\n",
            "|[,, Firefox, Comm...|[, 2012-09-26T02:...|[,, Firefox, Comm...|[, 2012-09-25T05:...|[, 1989-08-05, Fi...|[, 2012-09-26T00:...|[,, Firefox, Post...|\n",
            "|[,, Chrome, Comme...|[, 2012-09-25T08:...|[,, Firefox, Comm...|[, 2012-09-25T05:...|[, 1989-08-05, Fi...|[, 2012-09-26T00:...|[,, Firefox, Post...|\n",
            "|[,, Chrome, Comme...|[, 2012-09-25T05:...|[,, Firefox, Comm...|[, 2012-09-25T05:...|[, 1989-08-05, Fi...|[, 2012-09-26T00:...|[,, Firefox, Post...|\n",
            "|[,, Chrome, Comme...|[, 2012-02-17T07:...|[,, Firefox, Comm...|[, 2012-02-16T22:...|[, 1989-08-05, Fi...|[, 2012-09-26T00:...|[,, Firefox, Post...|\n",
            "|[,, Firefox, Comm...|[, 2012-02-17T04:...|[,, Firefox, Comm...|[, 2012-02-16T22:...|[, 1989-08-05, Fi...|[, 2012-09-26T00:...|[,, Firefox, Post...|\n",
            "|[,, Firefox, Comm...|[, 2012-02-17T05:...|[,, Firefox, Comm...|[, 2012-02-16T22:...|[, 1989-08-05, Fi...|[, 2012-09-26T00:...|[,, Firefox, Post...|\n",
            "|[, 1986-08-28, Ch...|[, 2012-02-17T15:...|[,, Firefox, Comm...|[, 2012-02-16T22:...|[, 1989-08-05, Fi...|[, 2012-09-26T00:...|[,, Firefox, Post...|\n",
            "|[,, Chrome, Comme...|[, 2012-02-16T22:...|[,, Firefox, Comm...|[, 2012-02-16T22:...|[, 1989-08-05, Fi...|[, 2012-09-26T00:...|[,, Firefox, Post...|\n",
            "+--------------------+--------------------+--------------------+--------------------+--------------------+--------------------+--------------------+\n",
            "only showing top 20 rows\n",
            "\n",
            "+---------------+--------------------+------------------+--------------------+-----------------------------+------------------+-----------------------+----------------------+----------------------+\n",
            "|otherPerson.cid|otherPerson.lastName|distanceFromPerson|otherPerson.birthday|otherPerson.creationDate     |otherPerson.gender|otherPerson.browserUsed|otherPerson.locationIP|otherPerson.locationIP|\n",
            "+---------------+--------------------+------------------+--------------------+-----------------------------+------------------+-----------------------+----------------------+----------------------+\n",
            "|35184372088856 |Yang                |3                 |1980-11-28          |2012-11-04T03:31:15.404+00:00|male              |Firefox                |27.98.220.136         |27.98.220.136         |\n",
            "|26388279066668 |Kahnovich           |3                 |1985-06-11          |2012-02-26T23:41:53.145+00:00|female            |Internet Explorer      |31.192.109.124        |31.192.109.124        |\n",
            "|35184372088850 |Murray              |3                 |1982-08-15          |2012-11-03T10:03:45.388+00:00|female            |Firefox                |41.74.150.41          |41.74.150.41          |\n",
            "|30786325577731 |Efimkin             |3                 |1981-08-08          |2012-07-03T00:55:16.938+00:00|male              |Internet Explorer      |31.185.10.92          |31.185.10.92          |\n",
            "|8796093022237  |Zhang               |1                 |1986-07-23          |2010-10-28T05:49:29.470+00:00|male              |Firefox                |1.2.2.77              |1.2.2.77              |\n",
            "|24189255811081 |Guliyev             |2                 |1984-10-07          |2011-12-29T07:56:39.032+00:00|female            |Firefox                |91.191.192.127        |91.191.192.127        |\n",
            "|28587302322180 |Davies              |2                 |1985-06-02          |2012-03-30T10:11:12.788+00:00|male              |Internet Explorer      |31.170.121.115        |31.170.121.115        |\n",
            "|26388279066658 |Diaz                |3                 |1980-07-08          |2012-01-16T00:09:40.120+00:00|female            |Firefox                |186.64.7.5            |186.64.7.5            |\n",
            "|13194139533355 |Khan                |1                 |1987-11-24          |2011-01-09T19:16:37.913+00:00|female            |Chrome                 |27.116.34.47          |27.116.34.47          |\n",
            "|28587302322204 |Johansson           |3                 |1982-04-27          |2012-04-08T11:47:54.301+00:00|female            |Firefox                |31.209.179.5          |31.209.179.5          |\n",
            "|28587302322180 |Davies              |3                 |1985-06-02          |2012-03-30T10:11:12.788+00:00|male              |Internet Explorer      |31.170.121.115        |31.170.121.115        |\n",
            "|28587302322223 |Perera              |3                 |1983-05-09          |2012-03-17T14:21:07.120+00:00|male              |Safari                 |103.1.176.97          |103.1.176.97          |\n",
            "|26388279066658 |Diaz                |2                 |1980-07-08          |2012-01-16T00:09:40.120+00:00|female            |Firefox                |186.64.7.5            |186.64.7.5            |\n",
            "|30786325577740 |Alonso              |3                 |1987-08-18          |2012-06-26T12:37:35.179+00:00|female            |Internet Explorer      |196.1.135.241         |196.1.135.241         |\n",
            "|28587302322196 |Abdallahi           |3                 |1989-01-28          |2012-03-13T15:16:08.597+00:00|male              |Internet Explorer      |41.188.97.221         |41.188.97.221         |\n",
            "|24189255811109 |Wei                 |3                 |1985-02-11          |2011-11-07T16:24:26.837+00:00|female            |Internet Explorer      |27.112.88.106         |27.112.88.106         |\n",
            "|24189255811081 |Guliyev             |1                 |1984-10-07          |2011-12-29T07:56:39.032+00:00|female            |Firefox                |91.191.192.127        |91.191.192.127        |\n",
            "|32985348833329 |Singh               |3                 |1981-03-31          |2012-08-09T21:35:41.016+00:00|male              |Safari                 |49.206.89.61          |49.206.89.61          |\n",
            "|26388279066668 |Kahnovich           |2                 |1985-06-11          |2012-02-26T23:41:53.145+00:00|female            |Internet Explorer      |31.192.109.124        |31.192.109.124        |\n",
            "+---------------+--------------------+------------------+--------------------+-----------------------------+------------------+-----------------------+----------------------+----------------------+\n",
            "\n"
          ]
        }
      ]
    },
    {
      "cell_type": "code",
      "source": [
        "#Query 2\n",
        "from pyspark.sql.functions import unix_timestamp, from_unixtime\n",
        "input = (\"2199023255557\",\"2012-12-30T00:00:00.000+05:30\")\n",
        "inputclass = \"Person\"\n",
        "inp = input[0] + \",\" + inputclass\n",
        "\n",
        "path = graph.find(\"(x1)-[e0]->(x0);(x2)-[e1]->(x0)\")\n",
        "path = path.filter(col(\"e0.edgeRelation\") == \"knows\").filter(col(\"e1.edgeRelation\") == \"hasCreator\")\n",
        "path = path.filter(col(\"x0.class\") == \"Person\").filter(col(\"x1.class\") == \"Person\").filter((col(\"x2.class\") == \"Comment\") | (col(\"x2.class\") == \"Post\"))\n",
        "path = path.filter(col(\"x1.id\") == inp).filter(col(\"x2.creationDate\") < input[1])\n",
        "selected = [s for s in path.columns if 'x' in s]\n",
        "output = path.select(selected).select(col(\"x0.cid\").alias(\"friend.id\"),col(\"x0.firstName\").alias(\"friend.firstName\"),col(\"x0.lastName\").alias(\"friend.lastName\"),col(\"x2.cid\").alias(\"message.id\"),col(\"x2.content\").alias(\"message.content\"),col(\"x2.imageFile\").alias(\"message.imageFile\"),col(\"x2.creationDate\").alias(\"message.creationDate\"))\n",
        "output.show(20,False)"
      ],
      "metadata": {
        "id": "y_55649WoMj7",
        "colab": {
          "base_uri": "https://localhost:8080/"
        },
        "outputId": "fab32191-d660-45bf-9b09-f45d406844d3"
      },
      "execution_count": null,
      "outputs": [
        {
          "output_type": "stream",
          "name": "stdout",
          "text": [
            "+--------------+----------------+---------------+-------------+-----------------------------------------------------------------------------------------------------------+----------------------+-----------------------------+\n",
            "|friend.id     |friend.firstName|friend.lastName|message.id   |message.content                                                                                            |message.imageFile     |message.creationDate         |\n",
            "+--------------+----------------+---------------+-------------+-----------------------------------------------------------------------------------------------------------+----------------------+-----------------------------+\n",
            "|8796093022237 |Lei             |Zhang          |1099511629686|                                                                                                           |photo1099511629686.jpg|2012-09-19T15:09:24.124+00:00|\n",
            "|8796093022237 |Lei             |Zhang          |824633721307 |LOL                                                                                                        |null                  |2012-02-18T23:16:58.491+00:00|\n",
            "|8796093022237 |Lei             |Zhang          |824633722858 |                                                                                                           |photo824633722858.jpg |2012-02-23T20:02:36.247+00:00|\n",
            "|8796093022237 |Lei             |Zhang          |824633722841 |                                                                                                           |photo824633722841.jpg |2012-02-23T20:02:19.247+00:00|\n",
            "|24189255811081|Alim            |Guliyev        |824633723082 |ok                                                                                                         |null                  |2012-02-04T09:09:49.224+00:00|\n",
            "|8796093022237 |Lei             |Zhang          |755914246137 |                                                                                                           |photo755914246137.jpg |2011-12-03T14:40:23.291+00:00|\n",
            "|24189255811081|Alim            |Guliyev        |824633723103 |maybe                                                                                                      |null                  |2012-02-03T20:30:28.318+00:00|\n",
            "|8796093022237 |Lei             |Zhang          |481036339080 |                                                                                                           |photo481036339080.jpg |2011-04-29T12:57:53.826+00:00|\n",
            "|8796093022237 |Lei             |Zhang          |481036339079 |                                                                                                           |photo481036339079.jpg |2011-04-29T12:57:52.826+00:00|\n",
            "|24189255811081|Alim            |Guliyev        |824633723683 |About Judy Davis,  Globe Awards, three Emmy Awards, About J. K. Rowling, mic Relief, One Parent Fam        |                      |2012-02-27T16:33:26.897+00:00|\n",
            "|8796093022237 |Lei             |Zhang          |618475292512 |                                                                                                           |photo618475292512.jpg |2011-08-11T09:39:47.096+00:00|\n",
            "|13194139533355|Rahul           |Khan           |687194769577 |About Mariano Rivera, story. Pitching with a longAbout Salvador Dalí, es drew more attention thanAbout Henr|                      |2011-10-12T02:33:07.087+00:00|\n",
            "|8796093022237 |Lei             |Zhang          |893353199407 |                                                                                                           |photo893353199407.jpg |2012-04-27T00:13:52.316+00:00|\n",
            "|8796093022237 |Lei             |Zhang          |824633722834 |                                                                                                           |photo824633722834.jpg |2012-01-30T14:50:15.156+00:00|\n",
            "|8796093022237 |Lei             |Zhang          |1168231106381|                                                                                                           |photo1168231106381.jpg|2012-11-10T23:29:43.457+00:00|\n",
            "|8796093022237 |Lei             |Zhang          |549755815750 |                                                                                                           |photo549755815750.jpg |2011-05-20T18:19:19.262+00:00|\n",
            "|8796093022237 |Lei             |Zhang          |755914246134 |                                                                                                           |photo755914246134.jpg |2011-12-03T14:40:20.291+00:00|\n",
            "|24189255811081|Alim            |Guliyev        |1030792151883|great                                                                                                      |null                  |2012-08-31T17:20:01.482+00:00|\n",
            "|24189255811081|Alim            |Guliyev        |1099511629593|maybe                                                                                                      |null                  |2012-10-14T12:37:12.127+00:00|\n",
            "|8796093022237 |Lei             |Zhang          |755914246017 |                                                                                                           |photo755914246017.jpg |2011-12-13T05:15:06.537+00:00|\n",
            "+--------------+----------------+---------------+-------------+-----------------------------------------------------------------------------------------------------------+----------------------+-----------------------------+\n",
            "only showing top 20 rows\n",
            "\n"
          ]
        }
      ]
    }
  ]
}